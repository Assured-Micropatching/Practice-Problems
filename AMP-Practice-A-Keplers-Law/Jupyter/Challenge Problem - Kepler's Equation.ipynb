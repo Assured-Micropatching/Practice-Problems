{
 "cells": [
  {
   "cell_type": "markdown",
   "source": [
    "# DARPA AMP Numerical Methods Challenge\n",
    "This challenge scenario is to patch a theoretically correct routine that suffers from convergence issues based on the input. The algorithm is the Newton-Raphson method and the problem it's solving is orbit trajectory calculations based on Kepler's laws.\n",
    "\n",
    "Note: This challenge is inspired from site visits with NASA Goddard.\n",
    "\n",
    "## Scenario\n",
    "A satellite or space probe may have a highly elliptial orbit. These orbits are calculated using Newton's and Kepler's laws. The use of Kepler's equation is shown in https://en.wikipedia.org/wiki/Kepler%27s_equation and many other references regarding orbital mechanics. It is used onboard a space craft to determine its location in orbit. \n",
    "\n",
    "Kepler's equation is:\n",
    "\n",
    "$$ M = E - e \\sin E $$\n",
    "\n",
    "where $M$ is the mean anomaly, $E$ is the eccentric anomaly, and $e$ is the eccentricity.\n",
    "\n",
    "Kepler's equation is a transcendental equation, which means there is not an algebraic solution for E. Instead, we must use a numerical method, like the Newton-Raphson method. To do this, we are looking for a root, so let's transform the equation to \n",
    "$$ f(E) = E - e \\sin(E) - M$$ and\n",
    "\n",
    "$$ f^\\prime(E) = 1 - e \\cos(E) $$\n",
    "\n",
    "Let's start with an initial guess $E_0$, then use the Newton-Raphson method to determine a solution. When $f = 0$, the solution is satisfied. The numerical method should converge so $f<tol$.\n",
    "\n",
    "$$E_n = E_{n-1} - \\frac{f(E_{n-1})}{f^\\prime(E_{n-1})}$$\n",
    "Typically this convergence is fast and only takes 3-6 iterations. However, if the tolerance is too tight, and we are using discrete representation of real numbers (i.e. floating point math), then sometimes the convergence criterion can be missed.\n",
    "\n",
    "### Example\n",
    "Let's look an an example of solving Kepler's equation using Python. We'll run 2 examples: one that converges quickly, and one that doesn't satisfy the (overly precise) convergence criteria.\n",
    "\n",
    "The convergence criteria for this is the machine's floating point epsilon.\n",
    "\n",
    "The the difference in the input is 0.000001\n",
    "\n",
    "The input is \n",
    "\n",
    " * mean_anomaly = 6.2\n",
    " * eccentricity = .335999 or .3360\n",
    " \n",
    "We'll use the mean_anomaly as our initial guess for E.\n"
   ],
   "metadata": {}
  },
  {
   "cell_type": "markdown",
   "source": [],
   "metadata": {}
  },
  {
   "cell_type": "code",
   "execution_count": 2,
   "source": [
    "from math import sin, cos\n",
    "import sys"
   ],
   "outputs": [],
   "metadata": {}
  },
  {
   "cell_type": "code",
   "execution_count": 2,
   "source": [
    "sys.float_info"
   ],
   "outputs": [
    {
     "output_type": "execute_result",
     "data": {
      "text/plain": [
       "sys.float_info(max=1.7976931348623157e+308, max_exp=1024, max_10_exp=308, min=2.2250738585072014e-308, min_exp=-1021, min_10_exp=-307, dig=15, mant_dig=53, epsilon=2.220446049250313e-16, radix=2, rounds=1)"
      ]
     },
     "metadata": {},
     "execution_count": 2
    }
   ],
   "metadata": {}
  },
  {
   "cell_type": "code",
   "execution_count": 3,
   "source": [
    "sys.float_info.epsilon"
   ],
   "outputs": [
    {
     "output_type": "execute_result",
     "data": {
      "text/plain": [
       "2.220446049250313e-16"
      ]
     },
     "metadata": {},
     "execution_count": 3
    }
   ],
   "metadata": {}
  },
  {
   "cell_type": "code",
   "execution_count": 4,
   "source": [
    "#Newton–Raphson formulations for the Kepler equation\n",
    "# M = E - e sin E\n",
    "#where M is the mean anomaly, E is the eccentric anomaly, and e is the eccentricity. \n",
    "def formula(ecc_anomaly,eccentricity,mean_anomaly):\n",
    "    return ecc_anomaly - eccentricity*(sin(ecc_anomaly)) - mean_anomaly\n",
    "\n",
    "def formula_derivative(ecc_anomaly,eccentricity):\n",
    "    return 1- eccentricity*(cos(ecc_anomaly))"
   ],
   "outputs": [],
   "metadata": {}
  },
  {
   "cell_type": "code",
   "execution_count": 5,
   "source": [
    "itter = 50\n",
    "tol = sys.float_info.epsilon\n",
    "mean_anomaly = 6.2 #radians\n",
    "for eccentricity in [.335999, .3360]:\n",
    "    print(\"Input: e = {}, M = {}\".format(eccentricity,mean_anomaly))\n",
    "    error = 1\n",
    "    E = [mean_anomaly]\n",
    "    n = 0\n",
    "    while abs(error) > tol:\n",
    "        error = formula(E[-1],eccentricity,mean_anomaly)\n",
    "        E.append(E[-1] - error/formula_derivative(E[-1],eccentricity))\n",
    "        print(error)\n",
    "        #Add this to prevent infinite loops.\n",
    "        n+=1\n",
    "        if n >= itter:\n",
    "            print(\"Did not converge.\")\n",
    "            break\n",
    "    print(\"The solution converged to M = {} radians after {} iterations with error of {}.\\n\".format(E[-1],n,error))"
   ],
   "outputs": [
    {
     "output_type": "stream",
     "name": "stdout",
     "text": [
      "Input: e = 0.335999, M = 6.2\n",
      "0.027917956257275556\n",
      "-2.8712578192369165e-05\n",
      "-3.8900438426026085e-11\n",
      "0.0\n",
      "The solution converged to M = 6.158071460674133 radians after 4 iterations with error of 0.0.\n",
      "\n",
      "Input: e = 0.336, M = 6.2\n",
      "0.02791803934667847\n",
      "-2.8712939017516703e-05\n",
      "-3.8901326604445785e-11\n",
      "-8.881784197001252e-16\n",
      "8.881784197001252e-16\n",
      "-8.881784197001252e-16\n",
      "8.881784197001252e-16\n",
      "-8.881784197001252e-16\n",
      "8.881784197001252e-16\n",
      "-8.881784197001252e-16\n",
      "8.881784197001252e-16\n",
      "-8.881784197001252e-16\n",
      "8.881784197001252e-16\n",
      "-8.881784197001252e-16\n",
      "8.881784197001252e-16\n",
      "-8.881784197001252e-16\n",
      "8.881784197001252e-16\n",
      "-8.881784197001252e-16\n",
      "8.881784197001252e-16\n",
      "-8.881784197001252e-16\n",
      "8.881784197001252e-16\n",
      "-8.881784197001252e-16\n",
      "8.881784197001252e-16\n",
      "-8.881784197001252e-16\n",
      "8.881784197001252e-16\n",
      "-8.881784197001252e-16\n",
      "8.881784197001252e-16\n",
      "-8.881784197001252e-16\n",
      "8.881784197001252e-16\n",
      "-8.881784197001252e-16\n",
      "8.881784197001252e-16\n",
      "-8.881784197001252e-16\n",
      "8.881784197001252e-16\n",
      "-8.881784197001252e-16\n",
      "8.881784197001252e-16\n",
      "-8.881784197001252e-16\n",
      "8.881784197001252e-16\n",
      "-8.881784197001252e-16\n",
      "8.881784197001252e-16\n",
      "-8.881784197001252e-16\n",
      "8.881784197001252e-16\n",
      "-8.881784197001252e-16\n",
      "8.881784197001252e-16\n",
      "-8.881784197001252e-16\n",
      "8.881784197001252e-16\n",
      "-8.881784197001252e-16\n",
      "8.881784197001252e-16\n",
      "-8.881784197001252e-16\n",
      "8.881784197001252e-16\n",
      "-8.881784197001252e-16\n",
      "Did not converge.\n",
      "The solution converged to M = 6.15807127348128 radians after 50 iterations with error of -8.881784197001252e-16.\n",
      "\n"
     ]
    }
   ],
   "metadata": {}
  },
  {
   "cell_type": "markdown",
   "source": [
    "# Perceptor Plan\n",
    "We need to convert this concept into a challenge for DARPA AMP performers. To do this we have to come up with the following:\n",
    "1. Vulnerable source code\n",
    "2. Patched source code\n",
    "3. Vulnerable binary\n",
    "4. Patched binary\n",
    "\n",
    "There are many ways we can generate this quad of deliverables based on some vulnerable code, hardware, and tool chains."
   ],
   "metadata": {}
  },
  {
   "cell_type": "markdown",
   "source": [
    "## Patch Definition\n",
    "The vulnerable code and resulting binary have issues in calculating the convergence criteria for some inputs. Then this happens, the algorithm could go into an infinite loop. There are a few ways of overcome this:\n",
    "1. Add an iteration counter and exit the calculation loop if a specified number of iterations has been exceeded.\n",
    "2. Add a timeout and exit the calculation loop if a certain amount of time has passed. \n",
    "3. Relax the precision of the error tolerance. \n",
    "4. Restart with alternative initial conditions. \n",
    "\n",
    "### Iteration Counter\n",
    "To implement the first check, the condition could be built into the while statement, or the condition could be checked during the iteration and exit if stasfied. For example, either of the following snippets would satisfy the patch 1."
   ],
   "metadata": {}
  },
  {
   "cell_type": "code",
   "execution_count": 6,
   "source": [
    "itter = 4\n",
    "n = 0\n",
    "error = 1\n",
    "while error > tol and n < itter:\n",
    "    n+=1\n",
    "    print(n)"
   ],
   "outputs": [
    {
     "output_type": "stream",
     "name": "stdout",
     "text": [
      "1\n",
      "2\n",
      "3\n",
      "4\n"
     ]
    }
   ],
   "metadata": {}
  },
  {
   "cell_type": "code",
   "execution_count": 7,
   "source": [
    "itter = 4\n",
    "n = 0\n",
    "error = 1\n",
    "while error > tol :\n",
    "    n+=1\n",
    "    print(n)\n",
    "    if n >= itter:\n",
    "        break"
   ],
   "outputs": [
    {
     "output_type": "stream",
     "name": "stdout",
     "text": [
      "1\n",
      "2\n",
      "3\n",
      "4\n"
     ]
    }
   ],
   "metadata": {}
  },
  {
   "cell_type": "markdown",
   "source": [
    "General application of this method may require a timing analysis of the algorithm, which could change based on hardware, clock speed, and the initial conditions. "
   ],
   "metadata": {}
  },
  {
   "cell_type": "markdown",
   "source": [
    "### Relax the Precision\n",
    "Instead of using machine epsilon, we could use an alternative criteria. For example, 10 or 100 times machine epsilon. "
   ],
   "metadata": {}
  },
  {
   "cell_type": "code",
   "execution_count": 10,
   "source": [
    "tol = 10*sys.float_info.epsilon\n",
    "itter = 10\n",
    "mean_anomaly = 6.2 #radians\n",
    "for eccentricity in [.335999, .3360]:\n",
    "    print(\"Input: e = {}, M = {}\".format(eccentricity,mean_anomaly))\n",
    "    error = 1\n",
    "    E = [mean_anomaly]\n",
    "    n = 0\n",
    "    while abs(error) > tol:\n",
    "        error = formula(E[-1],eccentricity,mean_anomaly)\n",
    "        E.append(E[-1] - error/formula_derivative(E[-1],eccentricity))\n",
    "        \n",
    "        #Add this to prevent infinite loops.\n",
    "        n+=1\n",
    "        if n >= itter:\n",
    "            print(\"Did not converge.\")\n",
    "            break\n",
    "    print(\"The solution converged to M = {} radians after {} iterations with error of {}.\\n\".format(E[-1],n,error))"
   ],
   "outputs": [
    {
     "output_type": "stream",
     "name": "stdout",
     "text": [
      "Input: e = 0.335999, M = 6.2\n",
      "The solution converged to M = 6.158071460674133 radians after 4 iterations with error of 0.0.\n",
      "\n",
      "Input: e = 0.336, M = 6.2\n",
      "The solution converged to M = 6.15807127348128 radians after 4 iterations with error of -8.881784197001252e-16.\n",
      "\n"
     ]
    }
   ],
   "metadata": {}
  },
  {
   "cell_type": "markdown",
   "source": [
    "### Change initial conditions\n",
    "This approach is difficult by itself because the algorithm would need to know when to change. To determine if a change was necessary, we would likely employ one of the approaches above. "
   ],
   "metadata": {}
  },
  {
   "cell_type": "markdown",
   "source": [
    "# Challenge Problem Suite\n",
    "DARPA performers will have 3 hardware platforms this fall with a PowerPC platform being built. The CAN Logger 3 is also available. \n",
    "\n",
    "We need to build the following things:\n",
    "1. An input/output system. The theme has been CAN, so we can probably stick with that.\n",
    "  1. When using CAN, we'll need to define some messages. I suspect eliptical orbits are not defined in J1939, so we can use a proprietary PGN.\n",
    "  1. We'll need a CAN message to start the calculation. Let's use the CAN message with the ID of 0x18FF81F9 and the data fields are 2 32-bit, Big Endian numbers that represent the eccentricity and the mean anomaly. \n",
    "  1. The reponse should be the value of the response to Kepler's Equation. Let's use 0x18FF821C to respond. This uses the source address of 28 (0x1C) for vehicle navigation. We can use a 32-bit unsigned integer in big endian format for the response. We could also include a byte on the number of iterations it took, and finally an indicator of the value of the error in the computation. \n",
    "2. A function that performs the Newton-Raphson calculation. This is the function that has the vulnerability.\n",
    "3. The the formula that is used to solve Kepler's equation.\n",
    "4. The formula for the derivative of Kepler's equation.\n"
   ],
   "metadata": {}
  },
  {
   "cell_type": "markdown",
   "source": [
    "## Hardware\n",
    "\n",
    "1. Arduino Uno: This is a great option since the floating point has to be done in 8-bit code.\n",
    "1. STM32F04: Basic ARM-32 processor, no floating point processors.\n",
    "1. CAN Logger 3 / NXP K66: ARM 32-bit processor with floating point unit.\n",
    "4. BeagleBone Black: Embedded Linux on ARM\n",
    "5. MPC57XX development board: PowerPC e200 core. \n",
    "5. PowerPC Emulator: Will we be able to compile and run code for the the emulator?\n",
    "6. CM2350: Cummins engine controller, PowerPC. The N-R method would have to be added by Cummins and flashed to the Controller. Maybe this is a stretch goal, but it would be pretty cool.\n",
    "7. NASA inspired hardware... \n",
    "\n",
    "What architectures and emulation environments are available for us to implement challenge problems on?\n",
    "\n",
    "## Build Chains\n",
    "1. Arduino IDE for the Arduino Uno\n",
    "1. STMCube for the STM32\n",
    "1. Arduino with Teensyduino (gcc) for the CAN Logger 3. We could also use the NXP tools.\n",
    "4. Linux GCC and SocketCAN for the beagle bone.\n",
    "  1. Could also write code with rust, go, c, and c++\n",
    "5. The MPC57XX would use the NXP tools.\n",
    "6. Assuming Cummins will use their tool chain? Can we run custom code?\n",
    "7. CM2350 emulator: ???\n",
    "8. NASA inspired tool chains... "
   ],
   "metadata": {}
  },
  {
   "cell_type": "code",
   "execution_count": null,
   "source": [],
   "outputs": [],
   "metadata": {}
  }
 ],
 "metadata": {
  "kernelspec": {
   "name": "python3",
   "display_name": "Python 3.8.10 64-bit"
  },
  "language_info": {
   "codemirror_mode": {
    "name": "ipython",
    "version": 3
   },
   "file_extension": ".py",
   "mimetype": "text/x-python",
   "name": "python",
   "nbconvert_exporter": "python",
   "pygments_lexer": "ipython3",
   "version": "3.8.10"
  },
  "interpreter": {
   "hash": "916dbcbb3f70747c44a77c7bcd40155683ae19c65e1c03b4aa3499c5328201f1"
  }
 },
 "nbformat": 4,
 "nbformat_minor": 2
}